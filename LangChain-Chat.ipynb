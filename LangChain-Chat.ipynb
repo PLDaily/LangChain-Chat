{
 "cells": [
  {
   "cell_type": "code",
   "execution_count": null,
   "id": "d2ccfafe-6da3-4ae7-93b2-927cc0d154d4",
   "metadata": {
    "tags": []
   },
   "outputs": [],
   "source": [
    "# 安装全部依赖\n",
    "!pip install -r requirements.txt"
   ]
  },
  {
   "cell_type": "code",
   "execution_count": 2,
   "id": "4e283273-6147-4709-ba2a-7892ece1c17c",
   "metadata": {
    "execution": {
     "iopub.execute_input": "2024-04-26T13:38:43.685861Z",
     "iopub.status.busy": "2024-04-26T13:38:43.685539Z",
     "iopub.status.idle": "2024-04-26T13:38:57.211358Z",
     "shell.execute_reply": "2024-04-26T13:38:57.210813Z",
     "shell.execute_reply.started": "2024-04-26T13:38:43.685842Z"
    },
    "tags": []
   },
   "outputs": [
    {
     "name": "stderr",
     "output_type": "stream",
     "text": [
      "2024-04-26 21:38:46,802 - modelscope - INFO - PyTorch version 2.1.2+cu121 Found.\n",
      "2024-04-26 21:38:46,804 - modelscope - INFO - TensorFlow version 2.14.0 Found.\n",
      "2024-04-26 21:38:46,804 - modelscope - INFO - Loading ast index from /mnt/workspace/.cache/modelscope/ast_indexer\n",
      "2024-04-26 21:38:46,804 - modelscope - INFO - No valid ast index found from /mnt/workspace/.cache/modelscope/ast_indexer, generating ast index from prebuilt!\n",
      "2024-04-26 21:38:46,850 - modelscope - INFO - Loading done! Current index file version is 1.14.0, with md5 9624771835d15245f3715ef006c0d0fa and a total number of 976 components indexed\n",
      "/opt/conda/lib/python3.10/site-packages/tqdm/auto.py:21: TqdmWarning: IProgress not found. Please update jupyter and ipywidgets. See https://ipywidgets.readthedocs.io/en/stable/user_install.html\n",
      "  from .autonotebook import tqdm as notebook_tqdm\n",
      "2024-04-26 21:38:48,503 - modelscope - WARNING - Model revision not specified, use revision: v1.0.0\n",
      "Downloading: 100%|██████████| 821/821 [00:00<00:00, 7.10MB/s]\n",
      "Downloading: 100%|██████████| 1.11k/1.11k [00:00<00:00, 8.21MB/s]\n",
      "Downloading: 100%|██████████| 69.0/69.0 [00:00<00:00, 468kB/s]\n",
      "Downloading: 100%|█████████▉| 1.21G/1.21G [00:03<00:00, 362MB/s]\n",
      "Downloading: 100%|██████████| 1.33k/1.33k [00:00<00:00, 10.2MB/s]\n",
      "Downloading: 100%|██████████| 125/125 [00:00<00:00, 843kB/s]\n",
      "Downloading: 100%|██████████| 429k/429k [00:00<00:00, 23.4MB/s]\n",
      "Downloading: 100%|██████████| 514/514 [00:00<00:00, 3.81MB/s]\n",
      "Downloading: 100%|██████████| 107k/107k [00:00<00:00, 52.1MB/s]\n"
     ]
    }
   ],
   "source": [
    "#模型下载\n",
    "from modelscope import snapshot_download\n",
    "model_dir = snapshot_download('thomas/text2vec-large-chinese')"
   ]
  },
  {
   "cell_type": "code",
   "execution_count": 1,
   "id": "3dcca2c8-777c-4c72-9416-4f4682687fd7",
   "metadata": {
    "ExecutionIndicator": {
     "show": true
    },
    "execution": {
     "iopub.execute_input": "2024-04-26T13:44:35.960726Z",
     "iopub.status.busy": "2024-04-26T13:44:35.960503Z",
     "iopub.status.idle": "2024-04-26T13:45:37.887021Z",
     "shell.execute_reply": "2024-04-26T13:45:37.886551Z",
     "shell.execute_reply.started": "2024-04-26T13:44:35.960706Z"
    },
    "tags": []
   },
   "outputs": [
    {
     "name": "stderr",
     "output_type": "stream",
     "text": [
      "2024-04-26 21:44:37,516 - modelscope - INFO - PyTorch version 2.1.2+cu121 Found.\n",
      "2024-04-26 21:44:37,518 - modelscope - INFO - TensorFlow version 2.14.0 Found.\n",
      "2024-04-26 21:44:37,518 - modelscope - INFO - Loading ast index from /mnt/workspace/.cache/modelscope/ast_indexer\n",
      "2024-04-26 21:44:37,547 - modelscope - INFO - Loading done! Current index file version is 1.14.0, with md5 9624771835d15245f3715ef006c0d0fa and a total number of 976 components indexed\n",
      "/opt/conda/lib/python3.10/site-packages/tqdm/auto.py:21: TqdmWarning: IProgress not found. Please update jupyter and ipywidgets. See https://ipywidgets.readthedocs.io/en/stable/user_install.html\n",
      "  from .autonotebook import tqdm as notebook_tqdm\n",
      "2024-04-26 21:44:38,998 - modelscope - WARNING - Model revision not specified, use revision: v1.0.2\n",
      "Downloading: 100%|██████████| 1.29k/1.29k [00:00<00:00, 10.2MB/s]\n",
      "Downloading: 100%|██████████| 37.0/37.0 [00:00<00:00, 302kB/s]\n",
      "Downloading: 100%|██████████| 2.28k/2.28k [00:00<00:00, 18.8MB/s]\n",
      "Downloading: 100%|██████████| 4.04k/4.04k [00:00<00:00, 12.1MB/s]\n",
      "Downloading: 100%|██████████| 54.3k/54.3k [00:00<00:00, 51.9MB/s]\n",
      "Downloading: 100%|█████████▉| 1.70G/1.70G [00:07<00:00, 235MB/s]\n",
      "Downloading: 100%|█████████▉| 1.83G/1.83G [00:05<00:00, 364MB/s]\n",
      "Downloading: 100%|█████████▉| 1.80G/1.80G [00:05<00:00, 326MB/s]\n",
      "Downloading: 100%|█████████▉| 1.69G/1.69G [00:05<00:00, 336MB/s]\n",
      "Downloading: 100%|█████████▉| 1.83G/1.83G [00:05<00:00, 339MB/s]\n",
      "Downloading: 100%|█████████▉| 1.80G/1.80G [00:05<00:00, 361MB/s]\n",
      "Downloading: 100%|█████████▉| 0.98G/0.98G [00:04<00:00, 242MB/s]\n",
      "Downloading: 100%|██████████| 20.0k/20.0k [00:00<00:00, 4.55MB/s]\n",
      "Downloading: 100%|██████████| 14.3k/14.3k [00:00<00:00, 4.13MB/s]\n",
      "Downloading: 100%|██████████| 4.37k/4.37k [00:00<00:00, 6.82MB/s]\n",
      "Downloading: 100%|██████████| 11.0k/11.0k [00:00<00:00, 35.1MB/s]\n",
      "Downloading: 100%|██████████| 995k/995k [00:00<00:00, 37.3MB/s]\n",
      "Downloading: 100%|██████████| 244/244 [00:00<00:00, 1.56MB/s]\n"
     ]
    }
   ],
   "source": [
    "#模型下载\n",
    "from modelscope import snapshot_download\n",
    "model_dir = snapshot_download('ZhipuAI/chatglm3-6b')"
   ]
  },
  {
   "cell_type": "code",
   "execution_count": null,
   "id": "9e724143-7465-45c0-a545-e46c7b3c888f",
   "metadata": {
    "ExecutionIndicator": {
     "show": true
    },
    "execution": {
     "iopub.execute_input": "2024-04-26T13:55:29.697493Z",
     "iopub.status.busy": "2024-04-26T13:55:29.697185Z"
    },
    "tags": []
   },
   "outputs": [
    {
     "name": "stdout",
     "output_type": "stream",
     "text": [
      "Loading checkpoint shards:   0%|                          | 0/7 [00:00<?, ?it/s]/opt/conda/lib/python3.10/site-packages/torch/_utils.py:831: UserWarning: TypedStorage is deprecated. It will be removed in the future and UntypedStorage will be the only storage class. This should only matter to you if you are using storages directly.  To access UntypedStorage directly, use tensor.untyped_storage() instead of tensor.storage()\n",
      "  return self.fget.__get__(instance, owner)()\n",
      "Loading checkpoint shards: 100%|██████████████████| 7/7 [00:20<00:00,  2.94s/it]\n",
      "No sentence-transformers model found with name /mnt/workspace/.cache/modelscope/thomas/text2vec-large-chinese. Creating a new one with MEAN pooling.\n",
      "Running on local URL:  http://0.0.0.0:7860\n",
      "\n",
      "To create a public link, set `share=True` in `launch()`.\n",
      "content/langchain-ChatGLM_README.md 已成功加载\n",
      "content/langchain-ChatGLM_README.md 已成功加载\n",
      "2024-04-26 21:57:11.198190: I tensorflow/core/util/port.cc:111] oneDNN custom operations are on. You may see slightly different numerical results due to floating-point round-off errors from different computation orders. To turn them off, set the environment variable `TF_ENABLE_ONEDNN_OPTS=0`.\n",
      "2024-04-26 21:57:11.307024: I tensorflow/tsl/cuda/cudart_stub.cc:28] Could not find cuda drivers on your machine, GPU will not be used.\n",
      "2024-04-26 21:57:11.809352: E tensorflow/compiler/xla/stream_executor/cuda/cuda_dnn.cc:9342] Unable to register cuDNN factory: Attempting to register factory for plugin cuDNN when one has already been registered\n",
      "2024-04-26 21:57:11.809378: E tensorflow/compiler/xla/stream_executor/cuda/cuda_fft.cc:609] Unable to register cuFFT factory: Attempting to register factory for plugin cuFFT when one has already been registered\n",
      "2024-04-26 21:57:11.812308: E tensorflow/compiler/xla/stream_executor/cuda/cuda_blas.cc:1518] Unable to register cuBLAS factory: Attempting to register factory for plugin cuBLAS when one has already been registered\n",
      "2024-04-26 21:57:12.080763: I tensorflow/tsl/cuda/cudart_stub.cc:28] Could not find cuda drivers on your machine, GPU will not be used.\n",
      "2024-04-26 21:57:12.082507: I tensorflow/core/platform/cpu_feature_guard.cc:182] This TensorFlow binary is optimized to use available CPU instructions in performance-critical operations.\n",
      "To enable the following instructions: AVX2 AVX512F AVX512_VNNI FMA, in other operations, rebuild TensorFlow with the appropriate compiler flags.\n",
      "2024-04-26 21:57:13.322698: W tensorflow/compiler/tf2tensorrt/utils/py_utils.cc:38] TF-TRT Warning: Could not find TensorRT\n"
     ]
    }
   ],
   "source": [
    "!python webui.py"
   ]
  }
 ],
 "metadata": {
  "kernelspec": {
   "display_name": "Python 3 (ipykernel)",
   "language": "python",
   "name": "python3"
  },
  "language_info": {
   "codemirror_mode": {
    "name": "ipython",
    "version": 3
   },
   "file_extension": ".py",
   "mimetype": "text/x-python",
   "name": "python",
   "nbconvert_exporter": "python",
   "pygments_lexer": "ipython3",
   "version": "3.10.13"
  }
 },
 "nbformat": 4,
 "nbformat_minor": 5
}
